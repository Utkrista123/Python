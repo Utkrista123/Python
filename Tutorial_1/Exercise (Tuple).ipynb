{
 "cells": [
  {
   "cell_type": "markdown",
   "id": "2e7546db",
   "metadata": {},
   "source": [
    "## 1) Create a tuple with 5 machine learning algorithms:\n",
    "## (\"Linear Regression\", \"Decision Tree\", \"SVM\", \"KNN\", \"Naive Bayes\")\n",
    "\n",
    "## Access the 3rd element.\n",
    "\n",
    "## Try to change one element — what happens?"
   ]
  },
  {
   "cell_type": "code",
   "execution_count": 1,
   "id": "31ed8f8e",
   "metadata": {},
   "outputs": [],
   "source": [
    "my_tuple = (\"Linear Regression\", \"Decision Tree\", \"SVM\", \"KNN\", \"Naive Bayes\")"
   ]
  },
  {
   "cell_type": "code",
   "execution_count": 3,
   "id": "d59765f3",
   "metadata": {},
   "outputs": [
    {
     "ename": "TypeError",
     "evalue": "'tuple' object does not support item assignment",
     "output_type": "error",
     "traceback": [
      "\u001b[1;31m---------------------------------------------------------------------------\u001b[0m",
      "\u001b[1;31mTypeError\u001b[0m                                 Traceback (most recent call last)",
      "\u001b[1;32m~\\AppData\\Local\\Temp\\ipykernel_10532\\667500929.py\u001b[0m in \u001b[0;36m<module>\u001b[1;34m\u001b[0m\n\u001b[1;32m----> 1\u001b[1;33m \u001b[0mmy_tuple\u001b[0m\u001b[1;33m[\u001b[0m\u001b[1;36m2\u001b[0m\u001b[1;33m]\u001b[0m \u001b[1;33m=\u001b[0m \u001b[1;34m\"Utkrista\"\u001b[0m \u001b[1;31m## TypeError: 'tuple' object does not support item assignment\u001b[0m\u001b[1;33m\u001b[0m\u001b[1;33m\u001b[0m\u001b[0m\n\u001b[0m",
      "\u001b[1;31mTypeError\u001b[0m: 'tuple' object does not support item assignment"
     ]
    }
   ],
   "source": [
    "my_tuple[2] = \"Utkrista\" ## TypeError: 'tuple' object does not support item assignment"
   ]
  },
  {
   "cell_type": "markdown",
   "id": "092b5acd",
   "metadata": {},
   "source": [
    "## Given a tuple:\n",
    "\n",
    "## t = (1, 2, 3, [4, 5])\n",
    "\n",
    "## Can you modify the list inside it? Why or why not?"
   ]
  },
  {
   "cell_type": "code",
   "execution_count": null,
   "id": "40a84443",
   "metadata": {},
   "outputs": [],
   "source": []
  }
 ],
 "metadata": {
  "kernelspec": {
   "display_name": "Python 3 (ipykernel)",
   "language": "python",
   "name": "python3"
  },
  "language_info": {
   "codemirror_mode": {
    "name": "ipython",
    "version": 3
   },
   "file_extension": ".py",
   "mimetype": "text/x-python",
   "name": "python",
   "nbconvert_exporter": "python",
   "pygments_lexer": "ipython3",
   "version": "3.9.13"
  }
 },
 "nbformat": 4,
 "nbformat_minor": 5
}
