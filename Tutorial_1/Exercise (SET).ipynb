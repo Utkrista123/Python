{
 "cells": [
  {
   "cell_type": "markdown",
   "id": "1571c72b",
   "metadata": {},
   "source": [
    "# SET"
   ]
  },
  {
   "cell_type": "markdown",
   "id": "317e51f3",
   "metadata": {},
   "source": [
    "## 1) Create a set containing the numbers {1, 2, 3, 4, 5}.\n",
    "\n",
    "## Then add the number 6 and remove 3. What is the resulting set?"
   ]
  },
  {
   "cell_type": "code",
   "execution_count": 1,
   "id": "c09af915",
   "metadata": {},
   "outputs": [],
   "source": [
    "my_set = {1, 2, 3, 4, 5}"
   ]
  },
  {
   "cell_type": "code",
   "execution_count": 2,
   "id": "ac7ca48f",
   "metadata": {},
   "outputs": [],
   "source": [
    "my_set.add(6)\n",
    "my_set.remove(3)"
   ]
  },
  {
   "cell_type": "code",
   "execution_count": 3,
   "id": "45dc9333",
   "metadata": {},
   "outputs": [
    {
     "name": "stdout",
     "output_type": "stream",
     "text": [
      "{1, 2, 4, 5, 6}\n"
     ]
    }
   ],
   "source": [
    "print(my_set)"
   ]
  },
  {
   "cell_type": "markdown",
   "id": "262710e0",
   "metadata": {},
   "source": [
    "## 2) Given two sets:\n",
    "\n",
    "## A = {1, 2, 3, 4}\n",
    "## B = {3, 4, 5, 6}\n",
    "\n",
    "## Find their union, intersection, and difference."
   ]
  },
  {
   "cell_type": "code",
   "execution_count": 4,
   "id": "ee5ccda1",
   "metadata": {},
   "outputs": [],
   "source": [
    "A = {1, 2, 3, 4}\n",
    "B = {3, 4, 5, 6}"
   ]
  },
  {
   "cell_type": "code",
   "execution_count": 5,
   "id": "9a6cb9c0",
   "metadata": {},
   "outputs": [],
   "source": [
    "## Union\n",
    "my_union = A.union(B)"
   ]
  },
  {
   "cell_type": "code",
   "execution_count": 6,
   "id": "5159b35b",
   "metadata": {},
   "outputs": [
    {
     "name": "stdout",
     "output_type": "stream",
     "text": [
      "{1, 2, 3, 4, 5, 6}\n"
     ]
    }
   ],
   "source": [
    "print(my_union)"
   ]
  },
  {
   "cell_type": "code",
   "execution_count": 9,
   "id": "64bc77d1",
   "metadata": {},
   "outputs": [],
   "source": [
    "## Intersection\n",
    "my_intersection = A.intersection(B)"
   ]
  },
  {
   "cell_type": "code",
   "execution_count": 10,
   "id": "c78653cd",
   "metadata": {},
   "outputs": [
    {
     "name": "stdout",
     "output_type": "stream",
     "text": [
      "{3, 4}\n"
     ]
    }
   ],
   "source": [
    "print(my_intersection)"
   ]
  },
  {
   "cell_type": "code",
   "execution_count": 11,
   "id": "c464b497",
   "metadata": {},
   "outputs": [],
   "source": [
    "## Difference\n",
    "my_difference = A.difference(B)"
   ]
  },
  {
   "cell_type": "code",
   "execution_count": 12,
   "id": "74a07a20",
   "metadata": {},
   "outputs": [
    {
     "name": "stdout",
     "output_type": "stream",
     "text": [
      "{1, 2}\n"
     ]
    }
   ],
   "source": [
    "print(my_difference)"
   ]
  },
  {
   "cell_type": "markdown",
   "id": "3974ba24",
   "metadata": {},
   "source": [
    "## 3) Write a Python function that removes duplicates from a list using a set.\n",
    "## Example: [1, 2, 2, 3, 4, 4] → [1, 2, 3, 4]"
   ]
  },
  {
   "cell_type": "code",
   "execution_count": 13,
   "id": "97ba4fef",
   "metadata": {},
   "outputs": [],
   "source": [
    "my_list = [1, 2, 2, 3, 4, 4]"
   ]
  },
  {
   "cell_type": "code",
   "execution_count": 14,
   "id": "c74b11aa",
   "metadata": {},
   "outputs": [
    {
     "name": "stdout",
     "output_type": "stream",
     "text": [
      "{1, 2, 3, 4}\n"
     ]
    }
   ],
   "source": [
    "print(set(my_list))"
   ]
  },
  {
   "cell_type": "markdown",
   "id": "d2fb59e5",
   "metadata": {},
   "source": [
    "## 4) Given a sentence, find all unique words using a set.\n",
    "## Example: \"machine learning is fun and learning is cool\""
   ]
  },
  {
   "cell_type": "code",
   "execution_count": 15,
   "id": "f0455224",
   "metadata": {},
   "outputs": [],
   "source": [
    "my_string = \"machine learning is fun and learning is cool\""
   ]
  },
  {
   "cell_type": "code",
   "execution_count": 18,
   "id": "ee458581",
   "metadata": {},
   "outputs": [
    {
     "name": "stdout",
     "output_type": "stream",
     "text": [
      "{'is', 'machine', 'fun', 'learning', 'cool', 'and'}\n"
     ]
    }
   ],
   "source": [
    "print(set(my_string.split()))"
   ]
  },
  {
   "cell_type": "markdown",
   "id": "5fe785ff",
   "metadata": {},
   "source": [
    "## 5) Suppose you have sets of skills for three candidates:\n",
    "\n",
    "## A = {\"Python\", \"Pandas\", \"Numpy\"}\n",
    "## B = {\"Python\", \"SQL\"}\n",
    "## C = {\"R\", \"Pandas\"}\n",
    "\n",
    "\n",
    "## Find all skills that are common to everyone and those that are unique to only one candidate."
   ]
  },
  {
   "cell_type": "code",
   "execution_count": 24,
   "id": "0a23656d",
   "metadata": {},
   "outputs": [],
   "source": [
    "A = {\"Python\", \"Pandas\", \"Numpy\"}\n",
    "B = {\"Python\", \"SQL\"}\n",
    "C = {\"R\", \"Pandas\", \"Python\"}"
   ]
  },
  {
   "cell_type": "code",
   "execution_count": 25,
   "id": "fea1409c",
   "metadata": {},
   "outputs": [],
   "source": [
    "## Skills that are common\n",
    "common_skills = A.intersection(B).intersection(C)"
   ]
  },
  {
   "cell_type": "code",
   "execution_count": 26,
   "id": "006bc398",
   "metadata": {},
   "outputs": [
    {
     "name": "stdout",
     "output_type": "stream",
     "text": [
      "{'Python'}\n"
     ]
    }
   ],
   "source": [
    "print(common_skills)"
   ]
  },
  {
   "cell_type": "code",
   "execution_count": 31,
   "id": "68f2585e",
   "metadata": {},
   "outputs": [],
   "source": [
    "## Skills that are unique\n",
    "unique_skills_A = A.difference(B).difference(C)\n",
    "unique_skills_B = B.difference(A).difference(C)\n",
    "unique_skills_C = C.difference(B).difference(A)"
   ]
  },
  {
   "cell_type": "code",
   "execution_count": 34,
   "id": "d9b03aea",
   "metadata": {},
   "outputs": [
    {
     "name": "stdout",
     "output_type": "stream",
     "text": [
      "The unique skills of A is {'Numpy'}\n",
      "The unique skills of B is {'SQL'}\n",
      "The unique skills of C is {'R'}\n"
     ]
    }
   ],
   "source": [
    "print(f\"The unique skills of A is {unique_skills_A}\")\n",
    "print(f\"The unique skills of B is {unique_skills_B}\")\n",
    "print(f\"The unique skills of C is {unique_skills_C}\")"
   ]
  },
  {
   "cell_type": "code",
   "execution_count": null,
   "id": "aeae700a",
   "metadata": {},
   "outputs": [],
   "source": []
  }
 ],
 "metadata": {
  "kernelspec": {
   "display_name": "Python 3 (ipykernel)",
   "language": "python",
   "name": "python3"
  },
  "language_info": {
   "codemirror_mode": {
    "name": "ipython",
    "version": 3
   },
   "file_extension": ".py",
   "mimetype": "text/x-python",
   "name": "python",
   "nbconvert_exporter": "python",
   "pygments_lexer": "ipython3",
   "version": "3.9.13"
  }
 },
 "nbformat": 4,
 "nbformat_minor": 5
}
