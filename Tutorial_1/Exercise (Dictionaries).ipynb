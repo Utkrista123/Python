{
 "cells": [
  {
   "cell_type": "markdown",
   "id": "aea5c0e2",
   "metadata": {},
   "source": [
    "# Dictionaries"
   ]
  },
  {
   "cell_type": "markdown",
   "id": "27acbd84",
   "metadata": {},
   "source": [
    "## 1) Create a dictionary to store student marks:\n",
    "\n",
    "## {\"Alice\": 85, \"Bob\": 90, \"Charlie\": 78}\n",
    "\n",
    "## Add a new student \"David\": 92\n",
    "\n",
    "## Update \"Alice\"’s marks to 88."
   ]
  },
  {
   "cell_type": "code",
   "execution_count": 1,
   "id": "dc8a578e",
   "metadata": {},
   "outputs": [],
   "source": [
    "my_dict = {\"Alice\": 85, \"Bob\": 90, \"Charlie\": 78}"
   ]
  },
  {
   "cell_type": "code",
   "execution_count": 3,
   "id": "71a2ad94",
   "metadata": {},
   "outputs": [],
   "source": [
    "my_dict[\"David\"] = 92"
   ]
  },
  {
   "cell_type": "code",
   "execution_count": 4,
   "id": "f1404f75",
   "metadata": {},
   "outputs": [
    {
     "name": "stdout",
     "output_type": "stream",
     "text": [
      "{'Alice': 85, 'Bob': 90, 'Charlie': 78, 'David': 92}\n"
     ]
    }
   ],
   "source": [
    "print(my_dict)"
   ]
  },
  {
   "cell_type": "code",
   "execution_count": 5,
   "id": "975e7909",
   "metadata": {},
   "outputs": [],
   "source": [
    "my_dict[\"Alice\"]=88"
   ]
  },
  {
   "cell_type": "code",
   "execution_count": 6,
   "id": "9b386371",
   "metadata": {},
   "outputs": [
    {
     "name": "stdout",
     "output_type": "stream",
     "text": [
      "{'Alice': 88, 'Bob': 90, 'Charlie': 78, 'David': 92}\n"
     ]
    }
   ],
   "source": [
    "print(my_dict)"
   ]
  },
  {
   "cell_type": "markdown",
   "id": "6696741d",
   "metadata": {},
   "source": [
    "## 2) Write a program that counts the frequency of each word in a string using a dictionary.\n",
    "## Example: \"data science is fun and science is powerful\""
   ]
  },
  {
   "cell_type": "code",
   "execution_count": 27,
   "id": "49ddf9c5",
   "metadata": {},
   "outputs": [],
   "source": [
    "my_string = \"data science is fun and science is powerful\"\n",
    "string_split = my_string.split()\n",
    "my_dict = {}"
   ]
  },
  {
   "cell_type": "code",
   "execution_count": 28,
   "id": "4744b92f",
   "metadata": {},
   "outputs": [],
   "source": [
    "for i in string_split:\n",
    "    if i in my_dict:\n",
    "        my_dict[i] = my_dict[i] + 1\n",
    "    else:\n",
    "        my_dict[i] = 1"
   ]
  },
  {
   "cell_type": "code",
   "execution_count": 29,
   "id": "f5b27585",
   "metadata": {},
   "outputs": [
    {
     "name": "stdout",
     "output_type": "stream",
     "text": [
      "{'data': 1, 'science': 2, 'is': 2, 'fun': 1, 'and': 1, 'powerful': 1}\n"
     ]
    }
   ],
   "source": [
    "print(my_dict)"
   ]
  },
  {
   "cell_type": "markdown",
   "id": "4aae359c",
   "metadata": {},
   "source": [
    "## 3) You have a dictionary of product prices:\n",
    "\n",
    "## prices = {\"apple\": 120, \"banana\": 80, \"cherry\": 250}\n",
    "\n",
    "## Find the fruit with the highest price.\n",
    "\n",
    "## Find the average price."
   ]
  },
  {
   "cell_type": "code",
   "execution_count": 48,
   "id": "31d34e9e",
   "metadata": {},
   "outputs": [],
   "source": [
    "prices = {\"apple\": 120, \"banana\": 80, \"cherry\": 250}\n",
    "highest = prices[\"apple\"]\n",
    "sum = 0"
   ]
  },
  {
   "cell_type": "code",
   "execution_count": 49,
   "id": "e9b0dbb2",
   "metadata": {},
   "outputs": [],
   "source": [
    "## Highest price\n",
    "for i in prices.values():\n",
    "    if i > highest:\n",
    "        highest = i"
   ]
  },
  {
   "cell_type": "code",
   "execution_count": 50,
   "id": "56e4ddb6",
   "metadata": {},
   "outputs": [
    {
     "name": "stdout",
     "output_type": "stream",
     "text": [
      "The hightest prices is: 250\n"
     ]
    }
   ],
   "source": [
    "print(f\"The hightest prices is: {highest}\")"
   ]
  },
  {
   "cell_type": "code",
   "execution_count": 51,
   "id": "9dd98903",
   "metadata": {},
   "outputs": [],
   "source": [
    "## Average Price\n",
    "for i in prices.values():\n",
    "    sum += i"
   ]
  },
  {
   "cell_type": "code",
   "execution_count": 52,
   "id": "20ed59d9",
   "metadata": {},
   "outputs": [],
   "source": [
    "average = sum / len(prices)"
   ]
  },
  {
   "cell_type": "code",
   "execution_count": 53,
   "id": "7039eaa6",
   "metadata": {},
   "outputs": [
    {
     "name": "stdout",
     "output_type": "stream",
     "text": [
      "150.0\n"
     ]
    }
   ],
   "source": [
    "print(average)"
   ]
  },
  {
   "cell_type": "markdown",
   "id": "b3cea0fd",
   "metadata": {},
   "source": [
    "## 4) student = {\"name\": \"John\", \"age\": 20, \"subjects\": [\"Math\", \"CS\"]}\n",
    "## Access and print \"CS\".\n",
    "\n",
    "## Add \"AI\" to the subjects list."
   ]
  },
  {
   "cell_type": "code",
   "execution_count": 60,
   "id": "fe13b473",
   "metadata": {},
   "outputs": [],
   "source": [
    "student = {\"name\": \"John\", \"age\": 20, \"subjects\": [\"Math\", \"CS\"]}"
   ]
  },
  {
   "cell_type": "code",
   "execution_count": 61,
   "id": "1b22debf",
   "metadata": {},
   "outputs": [
    {
     "data": {
      "text/plain": [
       "'CS'"
      ]
     },
     "execution_count": 61,
     "metadata": {},
     "output_type": "execute_result"
    }
   ],
   "source": [
    "student[\"subjects\"][1]"
   ]
  },
  {
   "cell_type": "code",
   "execution_count": 65,
   "id": "a44ccb78",
   "metadata": {},
   "outputs": [],
   "source": [
    "student[\"subjects\"].append(\"AI\")"
   ]
  },
  {
   "cell_type": "code",
   "execution_count": 66,
   "id": "90bf8d9e",
   "metadata": {},
   "outputs": [
    {
     "name": "stdout",
     "output_type": "stream",
     "text": [
      "{'name': 'John', 'age': 20, 'subjects': ['Math', 'CS', 'AI']}\n"
     ]
    }
   ],
   "source": [
    "print(student)"
   ]
  },
  {
   "cell_type": "markdown",
   "id": "4cd46cbe",
   "metadata": {},
   "source": [
    "## 5) Combine two dictionaries:\n",
    "\n",
    "## a = {\"x\": 10, \"y\": 20}\n",
    "## b = {\"y\": 30, \"z\": 40}\n",
    "\n",
    "## Write code to merge them, where overlapping keys keep the latest value from b."
   ]
  },
  {
   "cell_type": "code",
   "execution_count": 67,
   "id": "e72fc061",
   "metadata": {},
   "outputs": [],
   "source": [
    "a = {\"x\": 10, \"y\": 20}\n",
    "b = {\"y\": 30, \"z\": 40}"
   ]
  },
  {
   "cell_type": "code",
   "execution_count": 68,
   "id": "cfc7efed",
   "metadata": {},
   "outputs": [],
   "source": [
    "dict_merge = a | b"
   ]
  },
  {
   "cell_type": "code",
   "execution_count": 69,
   "id": "9683f827",
   "metadata": {},
   "outputs": [
    {
     "name": "stdout",
     "output_type": "stream",
     "text": [
      "{'x': 10, 'y': 30, 'z': 40}\n"
     ]
    }
   ],
   "source": [
    "print(dict_merge)"
   ]
  },
  {
   "cell_type": "code",
   "execution_count": null,
   "id": "d40862fe",
   "metadata": {},
   "outputs": [],
   "source": []
  }
 ],
 "metadata": {
  "kernelspec": {
   "display_name": "Python 3 (ipykernel)",
   "language": "python",
   "name": "python3"
  },
  "language_info": {
   "codemirror_mode": {
    "name": "ipython",
    "version": 3
   },
   "file_extension": ".py",
   "mimetype": "text/x-python",
   "name": "python",
   "nbconvert_exporter": "python",
   "pygments_lexer": "ipython3",
   "version": "3.9.13"
  }
 },
 "nbformat": 4,
 "nbformat_minor": 5
}
