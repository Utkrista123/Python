{
 "cells": [
  {
   "cell_type": "markdown",
   "id": "96315b83",
   "metadata": {},
   "source": [
    "# Statistical Operations"
   ]
  },
  {
   "cell_type": "markdown",
   "id": "03490953",
   "metadata": {},
   "source": [
    "## 1) Find mean, median, variance, and standard deviation of an array."
   ]
  },
  {
   "cell_type": "code",
   "execution_count": 1,
   "id": "f6d172fa",
   "metadata": {},
   "outputs": [],
   "source": [
    "import numpy as np"
   ]
  },
  {
   "cell_type": "code",
   "execution_count": 2,
   "id": "fb168fa0",
   "metadata": {},
   "outputs": [],
   "source": [
    "arr_2d = np.array([[1, 2, 3],\n",
    "                  [4, 5, 6]])"
   ]
  },
  {
   "cell_type": "code",
   "execution_count": 3,
   "id": "f62d8248",
   "metadata": {},
   "outputs": [
    {
     "name": "stdout",
     "output_type": "stream",
     "text": [
      "3.5\n"
     ]
    }
   ],
   "source": [
    "# Mean\n",
    "mean = np.mean(arr_2d)\n",
    "print(mean)"
   ]
  },
  {
   "cell_type": "code",
   "execution_count": 4,
   "id": "159e5b79",
   "metadata": {},
   "outputs": [
    {
     "name": "stdout",
     "output_type": "stream",
     "text": [
      "[2.5 3.5 4.5]\n"
     ]
    }
   ],
   "source": [
    "# Mean of each column\n",
    "mean = np.mean(arr_2d, axis = 0)\n",
    "print(mean)"
   ]
  },
  {
   "cell_type": "code",
   "execution_count": 5,
   "id": "da5ff28c",
   "metadata": {},
   "outputs": [
    {
     "name": "stdout",
     "output_type": "stream",
     "text": [
      "[2. 5.]\n"
     ]
    }
   ],
   "source": [
    "# Mean of each row\n",
    "mean = np.mean(arr_2d, axis = 1)\n",
    "print(mean)"
   ]
  },
  {
   "cell_type": "code",
   "execution_count": 6,
   "id": "e0e1e5da",
   "metadata": {},
   "outputs": [
    {
     "name": "stdout",
     "output_type": "stream",
     "text": [
      "3.5\n"
     ]
    }
   ],
   "source": [
    "# Median\n",
    "median = np.median(arr_2d)\n",
    "print(median)"
   ]
  },
  {
   "cell_type": "code",
   "execution_count": 7,
   "id": "c43b879b",
   "metadata": {},
   "outputs": [
    {
     "name": "stdout",
     "output_type": "stream",
     "text": [
      "[2.5 3.5 4.5]\n"
     ]
    }
   ],
   "source": [
    "# Mean of each column\n",
    "median = np.median(arr_2d, axis = 0)\n",
    "print(median)"
   ]
  },
  {
   "cell_type": "code",
   "execution_count": 8,
   "id": "b2c0c8cf",
   "metadata": {},
   "outputs": [
    {
     "name": "stdout",
     "output_type": "stream",
     "text": [
      "[2. 5.]\n"
     ]
    }
   ],
   "source": [
    "# Median of row colum\n",
    "median = np.median(arr_2d, axis = 1)\n",
    "print(median)"
   ]
  },
  {
   "cell_type": "code",
   "execution_count": 9,
   "id": "fc517094",
   "metadata": {},
   "outputs": [
    {
     "name": "stdout",
     "output_type": "stream",
     "text": [
      "2.9166666666666665\n"
     ]
    }
   ],
   "source": [
    "# Variance(Manual or process of variance)\n",
    "v_mean = np.mean(arr_2d)\n",
    "difference = arr_2d - v_mean\n",
    "square = np.square(difference)\n",
    "result = np.mean(square)\n",
    "print(result)"
   ]
  },
  {
   "cell_type": "code",
   "execution_count": 10,
   "id": "a20ee02e",
   "metadata": {},
   "outputs": [
    {
     "name": "stdout",
     "output_type": "stream",
     "text": [
      "2.9166666666666665\n"
     ]
    }
   ],
   "source": [
    "# Variance\n",
    "variance = np.var(arr_2d)\n",
    "print(variance)"
   ]
  },
  {
   "cell_type": "code",
   "execution_count": 11,
   "id": "0328e01d",
   "metadata": {},
   "outputs": [
    {
     "name": "stdout",
     "output_type": "stream",
     "text": [
      "[2.25 2.25 2.25]\n"
     ]
    }
   ],
   "source": [
    "# Variance of each column\n",
    "variance = np.var(arr_2d, axis = 0)\n",
    "print(variance)"
   ]
  },
  {
   "cell_type": "code",
   "execution_count": 12,
   "id": "bc249518",
   "metadata": {},
   "outputs": [
    {
     "name": "stdout",
     "output_type": "stream",
     "text": [
      "[0.66666667 0.66666667]\n"
     ]
    }
   ],
   "source": [
    "# Variance of each row\n",
    "variance = np.var(arr_2d, axis = 1)\n",
    "print(variance)"
   ]
  },
  {
   "cell_type": "code",
   "execution_count": 13,
   "id": "814edb1c",
   "metadata": {},
   "outputs": [
    {
     "name": "stdout",
     "output_type": "stream",
     "text": [
      "1.71\n"
     ]
    }
   ],
   "source": [
    "# Standard Deviation\n",
    "sd = np.std(arr_2d)\n",
    "print(f\"{sd:.2f}\")"
   ]
  },
  {
   "cell_type": "code",
   "execution_count": 14,
   "id": "945240a9",
   "metadata": {},
   "outputs": [
    {
     "name": "stdout",
     "output_type": "stream",
     "text": [
      "[1.5 1.5 1.5]\n"
     ]
    }
   ],
   "source": [
    "# Standard Deviation in column\n",
    "sd = np.std(arr_2d, axis = 0)\n",
    "print(sd)"
   ]
  },
  {
   "cell_type": "code",
   "execution_count": 15,
   "id": "8ef01a96",
   "metadata": {},
   "outputs": [
    {
     "name": "stdout",
     "output_type": "stream",
     "text": [
      "[0.81649658 0.81649658]\n"
     ]
    }
   ],
   "source": [
    "# Standard Deviation in row\n",
    "sd = np.std(arr_2d, axis = 1)\n",
    "print(sd)"
   ]
  },
  {
   "cell_type": "markdown",
   "id": "353c70d2",
   "metadata": {},
   "source": [
    "## 2) Normalize an array so that its mean = 0 and std = 1."
   ]
  },
  {
   "cell_type": "code",
   "execution_count": 24,
   "id": "c60b9ce6",
   "metadata": {},
   "outputs": [],
   "source": [
    "arr = np.array([1,2,3,4,5])"
   ]
  },
  {
   "cell_type": "code",
   "execution_count": 25,
   "id": "56996194",
   "metadata": {},
   "outputs": [
    {
     "name": "stdout",
     "output_type": "stream",
     "text": [
      "[-1.12132034 -0.12132034  0.87867966  1.87867966  2.87867966]\n"
     ]
    }
   ],
   "source": [
    "norm_arr = arr - ((np.mean(arr))/(np.std(arr)))\n",
    "print(norm_arr)"
   ]
  },
  {
   "cell_type": "code",
   "execution_count": 26,
   "id": "9f1b0fb5",
   "metadata": {},
   "outputs": [
    {
     "name": "stdout",
     "output_type": "stream",
     "text": [
      "The normalized mean:  0.8786796564403577\n",
      "The normalized std:  1.4142135623730951\n"
     ]
    }
   ],
   "source": [
    "print(\"The normalized mean: \", np.mean(norm_arr))\n",
    "print(\"The normalized std: \", np.std(norm_arr))"
   ]
  },
  {
   "cell_type": "markdown",
   "id": "eb648f23",
   "metadata": {},
   "source": [
    "# Boolean Indexing"
   ]
  },
  {
   "cell_type": "markdown",
   "id": "ed5aae4d",
   "metadata": {},
   "source": [
    "## 1) Create an array of numbers 1–20."
   ]
  },
  {
   "cell_type": "code",
   "execution_count": 34,
   "id": "021dfd8b",
   "metadata": {},
   "outputs": [],
   "source": [
    "arr = np.arange(1,21).reshape(4,5)"
   ]
  },
  {
   "cell_type": "markdown",
   "id": "ffe5f540",
   "metadata": {},
   "source": [
    "## 2) Extract all even numbers."
   ]
  },
  {
   "cell_type": "code",
   "execution_count": 50,
   "id": "afd8fa43",
   "metadata": {
    "scrolled": true
   },
   "outputs": [
    {
     "name": "stdout",
     "output_type": "stream",
     "text": [
      "[ 2  4  6  8 10 12 14 16 18 20]\n"
     ]
    }
   ],
   "source": [
    "even_number = arr[arr % 2 == 0]\n",
    "print(even_number)"
   ]
  },
  {
   "cell_type": "markdown",
   "id": "b52c4a12",
   "metadata": {},
   "source": [
    "## 3) Replace all numbers greater than 10 with 0."
   ]
  },
  {
   "cell_type": "code",
   "execution_count": 54,
   "id": "e4d90215",
   "metadata": {},
   "outputs": [
    {
     "name": "stdout",
     "output_type": "stream",
     "text": [
      "[[ 1  2  3  4  5]\n",
      " [ 6  7  8  9 10]\n",
      " [ 0  0  0  0  0]\n",
      " [ 0  0  0  0  0]]\n"
     ]
    }
   ],
   "source": [
    "arr[arr > 10] = 0\n",
    "print(arr)"
   ]
  },
  {
   "cell_type": "markdown",
   "id": "3d9ab4fd",
   "metadata": {},
   "source": [
    "# Stacking & Splitting"
   ]
  },
  {
   "cell_type": "markdown",
   "id": "864add3b",
   "metadata": {},
   "source": [
    "## 1) Create two (3×3) arrays."
   ]
  },
  {
   "cell_type": "code",
   "execution_count": 76,
   "id": "a6b2aa75",
   "metadata": {},
   "outputs": [],
   "source": [
    "arr1 = np.array([1,2,3,4,5,6,7,8,9]).reshape(3,3)\n",
    "arr2 = np.array([9,8,7,6,5,4,3,2,1]).reshape(3,3)"
   ]
  },
  {
   "cell_type": "markdown",
   "id": "1329cc3f",
   "metadata": {},
   "source": [
    "## 2) Stack them vertically and horizontally."
   ]
  },
  {
   "cell_type": "code",
   "execution_count": 77,
   "id": "be523bfe",
   "metadata": {},
   "outputs": [
    {
     "name": "stdout",
     "output_type": "stream",
     "text": [
      "[[1 2 3]\n",
      " [4 5 6]\n",
      " [7 8 9]\n",
      " [9 8 7]\n",
      " [6 5 4]\n",
      " [3 2 1]]\n"
     ]
    }
   ],
   "source": [
    "# verical stacking useing vstack\n",
    "arr = np.vstack((arr1, arr2))\n",
    "print(arr)"
   ]
  },
  {
   "cell_type": "code",
   "execution_count": 78,
   "id": "9548ed22",
   "metadata": {},
   "outputs": [
    {
     "name": "stdout",
     "output_type": "stream",
     "text": [
      "[[1 2 3 9 8 7]\n",
      " [4 5 6 6 5 4]\n",
      " [7 8 9 3 2 1]]\n"
     ]
    }
   ],
   "source": [
    "# horizontal stacking using hstack\n",
    "arr = np.hstack((arr1,arr2))\n",
    "print(arr)"
   ]
  },
  {
   "cell_type": "code",
   "execution_count": 79,
   "id": "c0bcf544",
   "metadata": {},
   "outputs": [
    {
     "name": "stdout",
     "output_type": "stream",
     "text": [
      "[[1 2 3]\n",
      " [4 5 6]\n",
      " [7 8 9]\n",
      " [9 8 7]\n",
      " [6 5 4]\n",
      " [3 2 1]]\n"
     ]
    }
   ],
   "source": [
    "# verical stacking using concatenate\n",
    "arr = np.concatenate((arr1, arr2), axis = 0)\n",
    "print(arr)"
   ]
  },
  {
   "cell_type": "code",
   "execution_count": 80,
   "id": "dc07def1",
   "metadata": {},
   "outputs": [
    {
     "name": "stdout",
     "output_type": "stream",
     "text": [
      "[[1 2 3 9 8 7]\n",
      " [4 5 6 6 5 4]\n",
      " [7 8 9 3 2 1]]\n"
     ]
    }
   ],
   "source": [
    "# horizontal stacking using concatenate\n",
    "arr = np.concatenate((arr1, arr2), axis = 1)\n",
    "print(arr)"
   ]
  },
  {
   "cell_type": "markdown",
   "id": "aef81456",
   "metadata": {},
   "source": [
    "## 3) Split a (4×4) array into 4 smaller (2×2) subarrays."
   ]
  },
  {
   "cell_type": "code",
   "execution_count": 82,
   "id": "4eeb0e20",
   "metadata": {},
   "outputs": [
    {
     "name": "stdout",
     "output_type": "stream",
     "text": [
      "[[ 1  2  3  4]\n",
      " [ 5  6  7  8]\n",
      " [ 9 10 11 12]\n",
      " [13 14 15 16]]\n"
     ]
    }
   ],
   "source": [
    "arr = np.arange(1,17).reshape(4,4)\n",
    "print(arr)"
   ]
  },
  {
   "cell_type": "code",
   "execution_count": 91,
   "id": "f050ede3",
   "metadata": {},
   "outputs": [
    {
     "name": "stdout",
     "output_type": "stream",
     "text": [
      "[array([[1, 2, 3, 4],\n",
      "       [5, 6, 7, 8]]), array([[ 9, 10, 11, 12],\n",
      "       [13, 14, 15, 16]])]\n",
      "[array([[1, 2, 3, 4],\n",
      "       [5, 6, 7, 8]]), array([[ 9, 10, 11, 12],\n",
      "       [13, 14, 15, 16]])]\n"
     ]
    }
   ],
   "source": [
    "# row splitting\n",
    "split_arr = np.split(arr, 2, axis = 0)\n",
    "print(split_arr)\n",
    "split_arr = np.array_split(arr, 2)\n",
    "print(split_arr)"
   ]
  },
  {
   "cell_type": "code",
   "execution_count": 90,
   "id": "3cfcec3a",
   "metadata": {},
   "outputs": [
    {
     "name": "stdout",
     "output_type": "stream",
     "text": [
      "[array([[ 1,  2],\n",
      "       [ 5,  6],\n",
      "       [ 9, 10],\n",
      "       [13, 14]]), array([[ 3,  4],\n",
      "       [ 7,  8],\n",
      "       [11, 12],\n",
      "       [15, 16]])]\n"
     ]
    }
   ],
   "source": [
    "# column splitting\n",
    "split_arr = np.split(arr, 2, axis = 1)\n",
    "print(split_arr)"
   ]
  },
  {
   "cell_type": "markdown",
   "id": "32261bf2",
   "metadata": {},
   "source": [
    "# Random & Linspace"
   ]
  },
  {
   "cell_type": "markdown",
   "id": "f7574bcf",
   "metadata": {},
   "source": [
    "## 1) Generate 10 random integers between 1–100."
   ]
  },
  {
   "cell_type": "code",
   "execution_count": 96,
   "id": "01977779",
   "metadata": {},
   "outputs": [
    {
     "name": "stdout",
     "output_type": "stream",
     "text": [
      "[65 15 10 79 71 62 90 64 79 88]\n"
     ]
    }
   ],
   "source": [
    "arr = np.random.randint(1,100,10)\n",
    "print(arr)"
   ]
  },
  {
   "cell_type": "markdown",
   "id": "ac61ff12",
   "metadata": {},
   "source": [
    "## 2) Create an array with 10 evenly spaced numbers between 0 and 1."
   ]
  },
  {
   "cell_type": "code",
   "execution_count": 97,
   "id": "f8b75338",
   "metadata": {},
   "outputs": [
    {
     "name": "stdout",
     "output_type": "stream",
     "text": [
      "[0.         0.11111111 0.22222222 0.33333333 0.44444444 0.55555556\n",
      " 0.66666667 0.77777778 0.88888889 1.        ]\n"
     ]
    }
   ],
   "source": [
    "arr = np.linspace(0,1,10)\n",
    "print(arr)"
   ]
  },
  {
   "cell_type": "markdown",
   "id": "b79eadd5",
   "metadata": {},
   "source": [
    "## 3) Shuffle the array randomly."
   ]
  },
  {
   "cell_type": "code",
   "execution_count": 100,
   "id": "5a614176",
   "metadata": {},
   "outputs": [
    {
     "name": "stdout",
     "output_type": "stream",
     "text": [
      "[0.11111111 0.33333333 0.88888889 0.66666667 0.77777778 0.\n",
      " 1.         0.44444444 0.55555556 0.22222222]\n"
     ]
    }
   ],
   "source": [
    "np.random.shuffle(arr)\n",
    "print(arr)"
   ]
  },
  {
   "cell_type": "code",
   "execution_count": null,
   "id": "30ce0d9a",
   "metadata": {},
   "outputs": [],
   "source": []
  }
 ],
 "metadata": {
  "kernelspec": {
   "display_name": "Python 3 (ipykernel)",
   "language": "python",
   "name": "python3"
  },
  "language_info": {
   "codemirror_mode": {
    "name": "ipython",
    "version": 3
   },
   "file_extension": ".py",
   "mimetype": "text/x-python",
   "name": "python",
   "nbconvert_exporter": "python",
   "pygments_lexer": "ipython3",
   "version": "3.9.13"
  }
 },
 "nbformat": 4,
 "nbformat_minor": 5
}
