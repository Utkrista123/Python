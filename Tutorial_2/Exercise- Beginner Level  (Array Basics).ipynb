{
 "cells": [
  {
   "cell_type": "markdown",
   "id": "648fdd0e",
   "metadata": {},
   "source": [
    "## 1) Create Arrays\n",
    "\n",
    "## Create a 1D, 2D, and 3D NumPy array."
   ]
  },
  {
   "cell_type": "code",
   "execution_count": 2,
   "id": "8565b66d",
   "metadata": {},
   "outputs": [],
   "source": [
    "import numpy as np"
   ]
  },
  {
   "cell_type": "code",
   "execution_count": 5,
   "id": "924ffcac",
   "metadata": {},
   "outputs": [
    {
     "name": "stdout",
     "output_type": "stream",
     "text": [
      "[1 2 3 4 5]\n",
      "shape: (5,)\n"
     ]
    }
   ],
   "source": [
    "# 1D array\n",
    "arr_1d = np.array([1, 2, 3, 4, 5])\n",
    "print(arr_1d)\n",
    "print(f\"shape: {arr_1d.shape}\")"
   ]
  },
  {
   "cell_type": "code",
   "execution_count": 6,
   "id": "e4f59b79",
   "metadata": {},
   "outputs": [
    {
     "name": "stdout",
     "output_type": "stream",
     "text": [
      "[[1 2 3 4 5]\n",
      " [3 4 5 6 7]]\n",
      "shape: (2, 5)\n"
     ]
    }
   ],
   "source": [
    "# 2D array\n",
    "arr_2d = np.array([[1, 2, 3, 4, 5], [3, 4, 5, 6, 7]])\n",
    "print(arr_2d)\n",
    "print(f\"shape: {arr_2d.shape}\")"
   ]
  },
  {
   "cell_type": "code",
   "execution_count": 7,
   "id": "bdca8fd2",
   "metadata": {},
   "outputs": [
    {
     "name": "stdout",
     "output_type": "stream",
     "text": [
      "[[[1 2 3 4 5]\n",
      "  [2 3 4 5 6]]\n",
      "\n",
      " [[9 8 7 6 5]\n",
      "  [8 7 6 5 4]]]\n",
      "shape: (2, 2, 5)\n"
     ]
    }
   ],
   "source": [
    "# 3D array\n",
    "arr_3d = np.array([[[1,2,3,4,5], [2,3,4,5,6]],\n",
    "                  [[9,8,7,6,5], [8,7,6,5,4]]])\n",
    "print(arr_3d)\n",
    "print(f\"shape: {arr_3d.shape}\")"
   ]
  },
  {
   "cell_type": "markdown",
   "id": "bfc6533c",
   "metadata": {},
   "source": [
    "## Create an array of zeros, ones, and random numbers."
   ]
  },
  {
   "cell_type": "code",
   "execution_count": 16,
   "id": "dcb84969",
   "metadata": {},
   "outputs": [
    {
     "data": {
      "text/plain": [
       "array([[0, 0, 0, 0, 0],\n",
       "       [0, 0, 0, 0, 0],\n",
       "       [0, 0, 0, 0, 0],\n",
       "       [0, 0, 0, 0, 0],\n",
       "       [0, 0, 0, 0, 0]])"
      ]
     },
     "execution_count": 16,
     "metadata": {},
     "output_type": "execute_result"
    }
   ],
   "source": [
    "## Array of zeros\n",
    "np.zeros((5,5), dtype = int)"
   ]
  },
  {
   "cell_type": "code",
   "execution_count": 17,
   "id": "6ff581bf",
   "metadata": {},
   "outputs": [
    {
     "data": {
      "text/plain": [
       "array([[1, 1, 1, 1, 1, 1, 1, 1],\n",
       "       [1, 1, 1, 1, 1, 1, 1, 1],\n",
       "       [1, 1, 1, 1, 1, 1, 1, 1],\n",
       "       [1, 1, 1, 1, 1, 1, 1, 1],\n",
       "       [1, 1, 1, 1, 1, 1, 1, 1]])"
      ]
     },
     "execution_count": 17,
     "metadata": {},
     "output_type": "execute_result"
    }
   ],
   "source": [
    "# Array of ones\n",
    "np.ones((5,8), dtype = int)"
   ]
  },
  {
   "cell_type": "code",
   "execution_count": 18,
   "id": "0929dd09",
   "metadata": {},
   "outputs": [
    {
     "data": {
      "text/plain": [
       "array([[41, 25, 19, 19, 23],\n",
       "       [22, 35, 16, 15, 10],\n",
       "       [30, 19, 32, 35, 29],\n",
       "       [47, 43, 40, 27, 22],\n",
       "       [24, 26, 38, 14, 15]])"
      ]
     },
     "execution_count": 18,
     "metadata": {},
     "output_type": "execute_result"
    }
   ],
   "source": [
    "# Array of random numbers\n",
    "np.random(10, 51, (5,5))"
   ]
  },
  {
   "cell_type": "code",
   "execution_count": 38,
   "id": "1b978f2f",
   "metadata": {},
   "outputs": [
    {
     "data": {
      "text/plain": [
       "array([[0.62667138, 0.73122176, 0.43663628, 0.01775764],\n",
       "       [0.00554295, 0.14229707, 0.36135125, 0.29136447]])"
      ]
     },
     "execution_count": 38,
     "metadata": {},
     "output_type": "execute_result"
    }
   ],
   "source": [
    "np.random.rand(2,4)"
   ]
  },
  {
   "cell_type": "markdown",
   "id": "aefbc930",
   "metadata": {},
   "source": [
    "## Create an array with values from 10 to 50 (inclusive)."
   ]
  },
  {
   "cell_type": "code",
   "execution_count": 37,
   "id": "8a5c8fe8",
   "metadata": {},
   "outputs": [
    {
     "data": {
      "text/plain": [
       "array([[21, 22, 43, 14, 14],\n",
       "       [46, 41, 35, 21, 37],\n",
       "       [20, 43, 10, 36, 36],\n",
       "       [35, 34, 22, 36, 13],\n",
       "       [28, 44, 43, 18, 41],\n",
       "       [14, 33, 25, 41, 36]])"
      ]
     },
     "execution_count": 37,
     "metadata": {},
     "output_type": "execute_result"
    }
   ],
   "source": [
    "np.random.randint(10, 51, (5,6)).reshape(6,5)"
   ]
  },
  {
   "cell_type": "markdown",
   "id": "bb419bd4",
   "metadata": {},
   "source": [
    "# 2) Array Properties"
   ]
  },
  {
   "cell_type": "markdown",
   "id": "820ff38c",
   "metadata": {},
   "source": [
    "## Print shape, size, and data type of an array."
   ]
  },
  {
   "cell_type": "code",
   "execution_count": 42,
   "id": "602e4ce4",
   "metadata": {},
   "outputs": [
    {
     "name": "stdout",
     "output_type": "stream",
     "text": [
      "The shape of the array is: (2, 5)\n",
      "The size of the array is: 10\n",
      "The type of the array is: <class 'numpy.ndarray'>\n"
     ]
    }
   ],
   "source": [
    "my_arr = np.array([[1, 2, 3, 4, 5],\n",
    "                  [5, 6, 7, 8, 9]])\n",
    "arr_shape = my_arr.shape\n",
    "arr_size = my_arr.size\n",
    "arr_type = type(my_arr)\n",
    "\n",
    "print(f\"The shape of the array is: {arr_shape}\")\n",
    "print(f\"The size of the array is: {arr_size}\")\n",
    "print(f\"The type of the array is: {arr_type}\")"
   ]
  },
  {
   "cell_type": "markdown",
   "id": "f7d9347f",
   "metadata": {},
   "source": [
    "# Reshape a 1D array of size 12 into a 3×4 matrix."
   ]
  },
  {
   "cell_type": "code",
   "execution_count": 45,
   "id": "02a04b33",
   "metadata": {},
   "outputs": [],
   "source": [
    "my_arr = np.random.randint(10, 80, 12).reshape(3, 4)"
   ]
  },
  {
   "cell_type": "code",
   "execution_count": 46,
   "id": "e12e8fe4",
   "metadata": {},
   "outputs": [
    {
     "data": {
      "text/plain": [
       "array([[44, 75, 20, 45],\n",
       "       [21, 15, 39, 57],\n",
       "       [55, 42, 45, 62]])"
      ]
     },
     "execution_count": 46,
     "metadata": {},
     "output_type": "execute_result"
    }
   ],
   "source": [
    "my_arr"
   ]
  },
  {
   "cell_type": "markdown",
   "id": "1131e2ff",
   "metadata": {},
   "source": [
    "# 3) Indexing & Slicing"
   ]
  },
  {
   "cell_type": "markdown",
   "id": "4b759c08",
   "metadata": {},
   "source": [
    "## Create a 3×3 matrix and extract:\n",
    "\n",
    "## The second row\n",
    "\n",
    "## The last column\n",
    "\n",
    "## The element in row 2, column 3"
   ]
  },
  {
   "cell_type": "code",
   "execution_count": 47,
   "id": "553de729",
   "metadata": {},
   "outputs": [],
   "source": [
    "my_arr = np.random.randint(10, 40, 9).reshape(3, 3)"
   ]
  },
  {
   "cell_type": "code",
   "execution_count": 49,
   "id": "6143b025",
   "metadata": {},
   "outputs": [
    {
     "data": {
      "text/plain": [
       "array([[15, 30, 15],\n",
       "       [13, 12, 28],\n",
       "       [14, 22, 37]])"
      ]
     },
     "execution_count": 49,
     "metadata": {},
     "output_type": "execute_result"
    }
   ],
   "source": [
    "my_arr"
   ]
  },
  {
   "cell_type": "code",
   "execution_count": 48,
   "id": "ed4d6403",
   "metadata": {},
   "outputs": [],
   "source": [
    "## Second row"
   ]
  },
  {
   "cell_type": "code",
   "execution_count": 50,
   "id": "40cecd81",
   "metadata": {},
   "outputs": [
    {
     "data": {
      "text/plain": [
       "array([13, 12, 28])"
      ]
     },
     "execution_count": 50,
     "metadata": {},
     "output_type": "execute_result"
    }
   ],
   "source": [
    "my_arr[1]"
   ]
  },
  {
   "cell_type": "code",
   "execution_count": 51,
   "id": "aaf5d656",
   "metadata": {},
   "outputs": [
    {
     "data": {
      "text/plain": [
       "array([14, 22, 37])"
      ]
     },
     "execution_count": 51,
     "metadata": {},
     "output_type": "execute_result"
    }
   ],
   "source": [
    "my_arr[2]"
   ]
  },
  {
   "cell_type": "code",
   "execution_count": 53,
   "id": "96a378a0",
   "metadata": {},
   "outputs": [
    {
     "data": {
      "text/plain": [
       "28"
      ]
     },
     "execution_count": 53,
     "metadata": {},
     "output_type": "execute_result"
    }
   ],
   "source": [
    "my_arr[1, 2]"
   ]
  },
  {
   "cell_type": "markdown",
   "id": "fcbff41f",
   "metadata": {},
   "source": [
    "# 4) Array Operations"
   ]
  },
  {
   "cell_type": "markdown",
   "id": "bd79ff32",
   "metadata": {},
   "source": [
    "## Add, subtract, multiply, and divide two arrays elementwise."
   ]
  },
  {
   "cell_type": "code",
   "execution_count": 66,
   "id": "aefa4a15",
   "metadata": {},
   "outputs": [
    {
     "name": "stdout",
     "output_type": "stream",
     "text": [
      "The add is: [ 5  7  9 11 13]\n",
      "The subtract is: [-3 -3 -3 -3 -3]\n",
      "The multiply is: [ 4 10 18 28 40]\n",
      "The divide is: [0.25       0.4        0.5        0.57142857 0.625     ]\n"
     ]
    }
   ],
   "source": [
    "arr_1 = np.array([1, 2, 3, 4, 5])\n",
    "arr_2 = np.array([4, 5, 6, 7, 8])\n",
    "add = arr_1 + arr_2\n",
    "subtract = arr_1 - arr_2\n",
    "multiply = arr_1 * arr_2\n",
    "divide = arr_1 / arr_2\n",
    "print(f\"The add is: {add}\")\n",
    "print(f\"The subtract is: {subtract}\")\n",
    "print(f\"The multiply is: {multiply}\")\n",
    "print(f\"The divide is: {divide}\")"
   ]
  },
  {
   "cell_type": "markdown",
   "id": "f3ea5e7f",
   "metadata": {},
   "source": [
    "## Multiply a matrix by a scalar."
   ]
  },
  {
   "cell_type": "code",
   "execution_count": 73,
   "id": "6cbdbbef",
   "metadata": {},
   "outputs": [
    {
     "name": "stdout",
     "output_type": "stream",
     "text": [
      "The result is: [[ 5 10 15]\n",
      " [20 25 30]]\n"
     ]
    }
   ],
   "source": [
    "arr = np.array([[1, 2, 3],\n",
    "            [4, 5, 6]])\n",
    "scalar = 5\n",
    "result = arr * scalar\n",
    "print(f\"The result is: {result}\")"
   ]
  },
  {
   "cell_type": "markdown",
   "id": "84bd34db",
   "metadata": {},
   "source": [
    "## Square every element of an array."
   ]
  },
  {
   "cell_type": "code",
   "execution_count": 80,
   "id": "caa5dc55",
   "metadata": {},
   "outputs": [
    {
     "name": "stdout",
     "output_type": "stream",
     "text": [
      "The result is: [[ 1  4  9]\n",
      " [16 25 36]]\n"
     ]
    }
   ],
   "source": [
    "arr = np.array([[1, 2, 3],\n",
    "            [4, 5, 6]])\n",
    "# result = np.square(arr) // Can be squared like this as well\n",
    "result = arr ** 2\n",
    "print(f\"The result is: {result}\")"
   ]
  },
  {
   "cell_type": "code",
   "execution_count": null,
   "id": "1b0e8332",
   "metadata": {},
   "outputs": [],
   "source": []
  }
 ],
 "metadata": {
  "kernelspec": {
   "display_name": "Python 3 (ipykernel)",
   "language": "python",
   "name": "python3"
  },
  "language_info": {
   "codemirror_mode": {
    "name": "ipython",
    "version": 3
   },
   "file_extension": ".py",
   "mimetype": "text/x-python",
   "name": "python",
   "nbconvert_exporter": "python",
   "pygments_lexer": "ipython3",
   "version": "3.9.13"
  }
 },
 "nbformat": 4,
 "nbformat_minor": 5
}
